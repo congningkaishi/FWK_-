{
 "cells": [
  {
   "cell_type": "markdown",
   "metadata": {},
   "source": [
    "## algorithm design and anlysis-2025 spring  homework 2\n",
    "**Deadline**：2025.5.14\n",
    "\n",
    "**name**:\n",
    "\n",
    "\n",
    "note：\n",
    "---\n",
    "1. 带有\\*的题目，申请免上课的同学，必须完成，其他同学选作；\n",
    "2. 请独立完成，如求助了他人或者大模型，请著明，并且不可省略算法分析部分；\n",
    "4. 如若作答有雷同，全部取消成绩；\n",
    "3. 需要书面作答的题目，可以通过引用图片的形式添加，但是注意上传项目时包含所引用的图片的源文件；\n",
    "4. $log_n$ 默认表示$log_2{n}$;"
   ]
  },
  {
   "cell_type": "markdown",
   "metadata": {},
   "source": [
    "## 问题 1  \n",
    "\n",
    "> 给定一个已排序的链表的头 `head` ， *删除所有重复的元素，使每个元素只出现一次* 。返回 *已排序的链表* 。链表的类如下所示：\n",
    "\n",
    "```python\n",
    "class NodeList:\n",
    "    def __init__(self, val=None, right=None):\n",
    "        self.val   = val\n",
    "        self.right = right\n",
    "```\n",
    "\n",
    "输入是一个数组，你首先需要将数组转化为链表，然后删除链表中的重复元素，再遍历链表元素，以一个数组的形式返回。请设计一个算法解决上述任务，分析算法设计思路，计算时间复杂度, 并基于python编程实现。\n",
    "\n",
    "e.g.  输入：head=[1, 1, 2, 3, 3]   输出：[1, 2, 3]\n",
    "\n",
    "![image-20240502110020439](./fig/hw2q1.png)\n",
    "\n"
   ]
  },
  {
   "cell_type": "markdown",
   "metadata": {},
   "source": [
    "idea：1：数组转链表。2：删除重复元素。3：链表转数组。 删除操作只要指针遇到前后一样的数值跳过即可。"
   ]
  },
  {
   "cell_type": "code",
   "execution_count": null,
   "metadata": {},
   "outputs": [
    {
     "name": "stdout",
     "output_type": "stream",
     "text": [
      "[1, 2, 3]\n"
     ]
    }
   ],
   "source": [
    "# add your idea here\n",
    "class NodeList:\n",
    "    def __init__(self, val=None, right=None):\n",
    "        self.val = val\n",
    "        self.right = right\n",
    "    \n",
    "def arr_to_list(arr):\n",
    "    if not arr:\n",
    "        return\n",
    "    head = NodeList(arr[0])\n",
    "    index = head\n",
    "    for val in arr[1:]:\n",
    "        index.right = NodeList(val)\n",
    "        index = index.right\n",
    "    return head\n",
    "\n",
    "def delete_repete(head):\n",
    "    index = head\n",
    "    while index and index.right:\n",
    "        if index.val == index.right.val:\n",
    "            index.right = index.right.right\n",
    "        else:\n",
    "            index = index.right\n",
    "    return head\n",
    "\n",
    "def list_to_arr(head):\n",
    "    arr = []\n",
    "    index = head\n",
    "    while index:\n",
    "        arr.append(index.val)\n",
    "        index = index.right\n",
    "    return arr\n",
    "\n",
    "def delete(arr):\n",
    "    head = arr_to_list(arr)\n",
    "    arr = delete_repete(head)\n",
    "    array = list_to_arr(arr)\n",
    "    return array\n",
    "\n",
    "head = [1,1,2,3,3]\n",
    "head = delete(head)\n",
    "print(head)\n",
    "# your algorithm time complexity is:O(n)\n",
    "# 数组转换为链表的时间复杂度是O(n)，遍历整个数组一次。\n",
    "# 删除链表中的重复元素的时间复杂度也是O(n)，遍历整个链表一次。\n",
    "# 链表转换回数组的时间复杂度同样是O(n)。所以总的时间复杂度是O(n)。"
   ]
  },
  {
   "cell_type": "markdown",
   "metadata": {},
   "source": [
    "## 问题 2  \n",
    "\n",
    "> 下面是一个经典的算法问题：\n",
    ">\n",
    "> - 给定包含n个整数的一个整数数组 `nums` 和一个整数目标值 `target`，请你在该数组中找出 **和为目标值** *`target`* 的那 **两个** 整数，并返回它们的**数组下标**。假设每种输入只会对应一个答案。但是，数组中同一个元素在答案里不能重复出现。你可以按任意顺序返回答案。\n",
    ">\n",
    "> 由于要多次查找数组中元素的位置，为了提高查询效率可以使用哈希表来存储数组中的数据，在哈希表中查询一个元素的复杂度为O(1)。 已知python中的字典是使用哈希表实现的，即使用`dict[key]`查询对应的value时间复杂度为O(1), python提供了查询字典是否包含某个key的功能：`key in dict`，时间复杂度也是O(1)\n",
    "\n",
    "请根据上面信息，设计一个时间复杂度为O(n) 的算法，解决上述算法问题\n",
    "\n",
    "e.g.   \n",
    "\n",
    "输入：nums=[2,7,11,15], target=9， 输出：[0，1]\n",
    "\n",
    "输入：nums=[3,2,4], target=6, 输出：[1,2]\n",
    "\n",
    "输入：nums=[3,3], target=6,  输出：[0,1]\n"
   ]
  },
  {
   "cell_type": "code",
   "execution_count": null,
   "metadata": {},
   "outputs": [
    {
     "name": "stdout",
     "output_type": "stream",
     "text": [
      "[1, 0]\n",
      "[2, 1]\n",
      "[1, 0]\n"
     ]
    }
   ],
   "source": [
    "# add your idea here\n",
    "def find_two_target(nums, target):\n",
    "    dict = {}\n",
    "    for i,val in enumerate(nums):\n",
    "        diff = target - val\n",
    "        if diff in dict:\n",
    "            return [i, dict[diff]]\n",
    "        dict[val] = i\n",
    "    return []\n",
    "\n",
    "nums = [2, 7, 11, 15]\n",
    "result = find_two_target(nums, 9)\n",
    "print(result)\n",
    "\n",
    "nums1 = [3,2,4]\n",
    "result1 = find_two_target(nums1, 6)\n",
    "print(result1)\n",
    "\n",
    "nums2 = [3,3]\n",
    "result2 = find_two_target(nums2, 6)\n",
    "print(result2)\n",
    "# your algorithm time complexity is: 只遍历数组一次，并且每次查找操作的时间复杂度为 O(1)，时间复杂度为O(n)"
   ]
  },
  {
   "cell_type": "markdown",
   "metadata": {},
   "source": [
    "## 问题 3:   \n",
    "\n",
    "> 栈是一种常用的数据结构，编译器中通常使用栈来实现表达式求值。\n",
    ">\n",
    "> 以表达式 $3+5 \\times 8-6$​ 为例。编译器使用两个栈来完成运算，即一个栈保持操作数，另一个栈保存运算符。\n",
    ">\n",
    "> 1. 从左向右遍历表达式，遇到数字就压入操作数栈；\n",
    ">\n",
    "> 2. 遇到运算符，就与运算符栈的栈顶元素进行比较。如果比运算符栈顶元素的优先级高，就将当前运算符压入栈；如果比运算符栈顶元素的优先级低或者相同，从运算符栈中取栈顶运算符，从操作数栈的栈顶取 2 个操作数，然后进行计算，再把计算完的结果压入操作数栈，继续比较。\n",
    ">\n",
    "> 下图是 $3+5 \\times 8-6$  这个表达式的计算过程：\n",
    "\n",
    "![figure](./fig/hw2q3.png)\n",
    "\n",
    "根据上述原理，请设计一个算法完成表达式的运算，当输入为表达式字符串，返回对应的计算结果。分析算法设计思路，计算时间复杂度，并基于python编程实现\n",
    "\n",
    "**note：**\n",
    "\n",
    "1. 假设输入的表达式只会出现加（“+”），减 “-”， 乘“*”，除 “/” 四个运算符, 表达式中只会出现正整数\n",
    "2. python中` str.isdigit()`函数可以判断字符串str是否为数字，\n",
    "\n",
    "\n",
    "\n",
    "e.g. :\n",
    "---\n",
    "\n",
    "1. 输入：“$3+5 * 8 -6$”   输出：37\n",
    "\n",
    "2. 输入：“$34+13*9 + 44-12/3$”  输出：191"
   ]
  },
  {
   "cell_type": "markdown",
   "metadata": {},
   "source": [
    "idea：需要定义两个栈，定义运算符优先级"
   ]
  },
  {
   "cell_type": "code",
   "execution_count": null,
   "metadata": {},
   "outputs": [
    {
     "name": "stdout",
     "output_type": "stream",
     "text": [
      "37\n",
      "191\n"
     ]
    }
   ],
   "source": [
    "# add your idea here\n",
    "def calculate(exp):\n",
    "    num_stack = []\n",
    "    op_stack = []\n",
    "\n",
    "    #定义运算符的优先级\n",
    "    def priority(op):\n",
    "        if op in ['+','-']:\n",
    "            return 1\n",
    "        elif op in ['*','/']:\n",
    "            return 2\n",
    "        return 0\n",
    "    \n",
    "    #运算函数\n",
    "    def cul(a, b, op):\n",
    "        if op == '+':\n",
    "            return a + b\n",
    "        if op == '-':\n",
    "            return a - b\n",
    "        if op == '*':\n",
    "            return a * b\n",
    "        if op == '/':\n",
    "            return a // b\n",
    "\n",
    "    #遍历表达式，进行出战和压栈\n",
    "    i = 0\n",
    "    while i < len(exp):\n",
    "        if exp[i].isdigit():\n",
    "            num = 0\n",
    "            while i < len(exp) and exp[i].isdigit():\n",
    "                num = num*10 + int(exp[i])\n",
    "                i = i+1\n",
    "            num_stack.append(num)\n",
    "            continue\n",
    "        if exp[i] in ['+','-','*','/']:\n",
    "            while(op_stack and priority(exp[i]) <= priority(op_stack[-1])):\n",
    "                b = num_stack.pop()\n",
    "                a = num_stack.pop()\n",
    "                op = op_stack.pop()\n",
    "                num_stack.append(cul(a, b, op))\n",
    "            op_stack.append(exp[i])\n",
    "        i = i + 1\n",
    "    \n",
    "    #遍历结束，将栈中的进行计算\n",
    "    while op_stack:\n",
    "        b = num_stack.pop()\n",
    "        a = num_stack.pop()\n",
    "        op = op_stack.pop()\n",
    "        num_stack.append(cul(a, b, op))\n",
    "\n",
    "    return num_stack[0]\n",
    "\n",
    "exp1 = '3+5*8-6'\n",
    "exp2 = '34+13*9+44-12/3'\n",
    "\n",
    "print(calculate(exp1))\n",
    "print(calculate(exp2))\n",
    "\n",
    "\n",
    "# your algorithm time complexity is: 每个字符只被处理一次遍历一遍，每次压栈和出栈操作都是O(1)，因此总体时间复杂度为O(n)"
   ]
  },
  {
   "cell_type": "markdown",
   "metadata": {},
   "source": [
    "## 问题 4:  \n",
    "\n",
    "> 星球碰撞问题：现有n个星球，在同一条直线上运行，如数组A所示，元素的绝对值表示星球的质量，负数表示星球自右向左运动，正数表示星球自左向右运动，当两个星球相撞的时候，质量小的会消失，大的保持不变，**质量相同的两个星球碰撞后自右向左运动的星球消失，自左向右的星球保持不变**，假设所有星球的速度大小相同。\n",
    ">\n",
    "> $ A=[23,-8, 9, -3, -7, 9, -23, 22] $\n",
    "\n",
    "请设计一个算法模拟星球的运行情况，输出最终的星球存续情况（输出一个数组），分析算法设计思路，计算时间复杂度，并基于python编程实现。\n",
    "\n",
    "e.g.\n",
    "---\n",
    "1.  输入： A=[-3,-6,2,8, 5,-8,9,-2,1]， 输出：[-3, -6, 2, 8, 9, 1]\n",
    "\n",
    "2. 输入：A=[23,-8, 9, -3, -7, 9, -23, 22], 输出：[23, 22]\n",
    "\n"
   ]
  },
  {
   "cell_type": "code",
   "execution_count": null,
   "metadata": {},
   "outputs": [
    {
     "name": "stdout",
     "output_type": "stream",
     "text": [
      "最终的星球存续情况： [23, 22] [-3, -6, 2, 8, 9, 1]\n"
     ]
    }
   ],
   "source": [
    "#利用栈的思想，将向右的星球直接压入栈，向左的星球比较质量选择弹出\n",
    "def star_crush(A):\n",
    "    stack = []\n",
    "    for j in range(len(A)):\n",
    "        if A[j] > 0:\n",
    "            stack.append(A[j])\n",
    "        else:\n",
    "            while stack and stack[-1] > 0 and stack[-1] < -A[j]:\n",
    "                stack.pop()\n",
    "            if stack and stack[-1] == -A[j]:\n",
    "                if  stack[-1] < 0:\n",
    "                    stack.pop()\n",
    "                continue\n",
    "            elif stack and stack[-1] > -A[j]:\n",
    "                continue\n",
    "            else:\n",
    "                stack.append(A[j])\n",
    "    return stack\n",
    "\n",
    "\n",
    "A = [23, -8, 9, -3, -7, 9, -23, 22]\n",
    "B = [-3, -6, 2, 8,5,-8, 9,-2, 1]\n",
    "result = star_crush(A)\n",
    "result1 = star_crush(B)\n",
    "print(\"最终的星球存续情况：\", result,result1)\n",
    "\n",
    "#algorithm time complexity is O(n)，只遍历一遍数组，时间复杂度为O(n)"
   ]
  },
  {
   "cell_type": "markdown",
   "metadata": {},
   "source": [
    "## 问题 5 \n",
    "\n",
    "> 给定一个无序数组nums=[9,-3,-10,0,9,7,33]，请建立一个二叉搜索树存储数组中的所有元素，之后删除二叉树中的元素“0”，再使用中序遍历输出二叉搜索树中的所有元素。\n",
    "\n",
    "使用python编程完成上述任务，并计算时间复杂度\n"
   ]
  },
  {
   "cell_type": "code",
   "execution_count": 22,
   "metadata": {},
   "outputs": [
    {
     "name": "stdout",
     "output_type": "stream",
     "text": [
      "中序遍历结果： [-10, -3, 7, 9, 9, 33]\n"
     ]
    }
   ],
   "source": [
    "# add your idea here\n",
    "#1建立二叉搜索树。2通过递归搜索找到0，删除0。 3中序遍历输出\n",
    "\n",
    "class TreeNode:\n",
    "    def __init__(self,key):\n",
    "        self.left = None\n",
    "        self.right = None\n",
    "        self.val = key\n",
    "\n",
    "def insert(root, key):\n",
    "    if root is None:\n",
    "        return TreeNode(key)\n",
    "    if key < root.val:\n",
    "        root.left = insert(root.left, key)\n",
    "    else:\n",
    "        root.right = insert(root.right, key)\n",
    "    return root\n",
    "\n",
    "#删除0，若0的左子树为空，返回右子树，若右子树为空，返回左子树，若都不为空，需要找到右子树中最小值替代0，再删除这个最小值节点\n",
    "def delete_node(root, key):\n",
    "    if root is None:\n",
    "        return root\n",
    "    if key < root.val:\n",
    "        root.left = delete_node(root.left, key)\n",
    "    elif key > root.val:\n",
    "        root.right = delete_node(root.right, key)\n",
    "    else:\n",
    "        if root.left is None:\n",
    "            return root.right\n",
    "        elif root.right is None:\n",
    "            return root.left\n",
    "        temp = find_min(root.right)\n",
    "        root.val = temp.val\n",
    "        root.right = delete_node(root.right, temp.val)\n",
    "    return root\n",
    "\n",
    "def find_min(node):\n",
    "    current = node\n",
    "    while current.left is not None:\n",
    "        current = current.left\n",
    "    return current\n",
    "\n",
    "def inorder(root):\n",
    "    result = []\n",
    "    if root:\n",
    "        result += inorder(root.left)\n",
    "        result.append(root.val)\n",
    "        result += inorder(root.right)\n",
    "    return result\n",
    "\n",
    "nums = [9, -3, -10, 0, 9, 7, 33]\n",
    "root = None\n",
    "for num in nums:\n",
    "    root = insert(root, num)\n",
    "\n",
    "root = delete_node(root, 0)\n",
    "result = inorder(root)\n",
    "print(\"中序遍历结果：\", result)\n",
    "    \n",
    "\n",
    "\n",
    "\n",
    "# # your algorithm time complexity is:O(nlogn)\n",
    "# 构建二叉搜索树：树高为h，对于每个元素的插入操作，时间复杂度为 O(h)。在最坏情况下，树的高度为 n，构建树的时间复杂度为 O(n^2) .\n",
    "# 平均树的高度为 O(logn)，因此构建树的时间复杂度为 O(nlogn)。\n",
    "# 删除操作：删除操作的时间复杂度也为 O(h)。\n",
    "# 中序遍历：中序遍历的时间复杂度为 O(n)，每个节点遍历一次。"
   ]
  },
  {
   "cell_type": "markdown",
   "metadata": {},
   "source": [
    "## 问题 6  \n",
    "\n",
    "> 给定一个包含大写字母和小写字母的字符串 s ，返回 字符串包含的 **最长的回文子串的长度** 。请注意 区分大小写 。比如 \"Aa\" 不能当做一个回文字符串。\n",
    ">\n",
    "\n",
    "请设计一个算法解决上述问题，只需要输出最长回文子串的长度，分析算法设计思路，计算时间复杂度，并基于python编程实现\n",
    "\n",
    "e.g. 输入： s=\"adccaccd\"，  输出：7。 最长回文子串为：\"dccaccd\", 长度为7\n"
   ]
  },
  {
   "cell_type": "markdown",
   "metadata": {},
   "source": [
    "idea："
   ]
  },
  {
   "cell_type": "code",
   "execution_count": null,
   "metadata": {},
   "outputs": [
    {
     "name": "stdout",
     "output_type": "stream",
     "text": [
      "7\n"
     ]
    }
   ],
   "source": [
    "# add your idea here\n",
    "#求助的网络上的方法，将原字符串进行处理，统一字符串为奇数方便处理\n",
    "\n",
    "def longest_palindrome_manacher(s):\n",
    "    # 预处理字符串\n",
    "    t = '#'.join('^{}$'.format(s))\n",
    "    n = len(t)\n",
    "    p = [0] * n\n",
    "    center = right = 0\n",
    "\n",
    "    for i in range(1, n - 1):\n",
    "        # 如果当前字符在最右回文边界内，则利用对称性确定初始回文半径\n",
    "        if right > i:\n",
    "            p[i] = min(right - i, p[2 * center - i])\n",
    "        \n",
    "        # 扩展回文子串\n",
    "        while t[i + p[i] + 1] == t[i - p[i] - 1]:\n",
    "            p[i] += 1\n",
    "        \n",
    "        # 更新最右回文边界和中心\n",
    "        if i + p[i] > right:\n",
    "            center, right = i, i + p[i]\n",
    "    \n",
    "    # 找出最大的回文半径及其对应中心\n",
    "    max_len, center_index = max((p[i], i) for i in range(n))\n",
    "    start = (center_index - max_len) // 2\n",
    "    return max_len\n",
    "\n",
    "# 示例使用\n",
    "s = \"adccaccd\"\n",
    "print(longest_palindrome_manacher(s))  # 输出：7\n",
    "# your algorithm time complexity is:O(n)\n",
    "# 只遍历一次数组\n"
   ]
  },
  {
   "cell_type": "markdown",
   "metadata": {},
   "source": [
    "## 问题 7 \n",
    "\n",
    "> 沿一条长河流分散着n座房子。你可以把这条河想象成一条轴，房子是由它们在这条轴上的坐标按顺序排列的。你的公司想在河边的特定地点设置手机基站，这样每户人家都在距离基站4公里的范围内。输入可以看作为一个升序数组，数组元素的取值为大于等于0的正整数，你需要输出最小基站的数目，基站的位置。\n",
    "\n",
    "1. 给出一个时间复杂度为$O(n$) 的算法，使所使用的基站数量最小化，分析算法设计思路，使用python编程实现\n",
    "2. 证明1.中算法产生了最优解决方案。\n",
    "\n",
    "e.g. \n",
    "\n",
    "输入： [1, 5, 12, 33, 34,35]  输出：基站数目为3， 基站位置为[1，12，33]\n",
    "\n"
   ]
  },
  {
   "cell_type": "markdown",
   "metadata": {},
   "source": [
    "idea：每次选择一个坐标时，寻找覆盖最远的最右房子，将最远右房子作为基站，这时若最右房子右边有<=4的房子将达到最大覆盖。\n",
    "示例似乎总是以最左的房子为基站，但如果是将左房子作为基站，[1,2,6]就会得出需要两个基站[1,6]，我的算法只能保证基站数量最小，但和题目位置不同。"
   ]
  },
  {
   "cell_type": "code",
   "execution_count": null,
   "metadata": {},
   "outputs": [
    {
     "name": "stdout",
     "output_type": "stream",
     "text": [
      "基站数目为：3\n",
      "基站位置为：[5, 12, 35]\n"
     ]
    }
   ],
   "source": [
    "# add your idea here\n",
    "def min_base_stations(houses):\n",
    "    if not houses:\n",
    "        return 0, []\n",
    "    \n",
    "    stations = []\n",
    "    n = len(houses)\n",
    "    i = 0\n",
    "    \n",
    "    while i < n:\n",
    "        current = houses[i]\n",
    "        # 寻找覆盖范围内的最右房子\n",
    "        max_reach = current + 4\n",
    "        # 找到覆盖范围内的最右房子的位置\n",
    "        while i < n and houses[i] <= max_reach:\n",
    "            i += 1\n",
    "        # 将基站位置设为覆盖范围内的最右房子的坐标\n",
    "        stations.append(houses[i - 1])\n",
    "        #找下一个房子进行基站选择\n",
    "        st = houses[i-1]\n",
    "        while i <n and (houses[i] - st) <= 4:\n",
    "            i += 1\n",
    "    return len(stations), stations\n",
    "\n",
    "# 示例\n",
    "houses = [1, 5, 12,33,34,35]\n",
    "num_stations, station_positions = min_base_stations(houses)\n",
    "print(f\"基站数目为：{num_stations}\")\n",
    "print(f\"基站位置为：{station_positions}\")\n",
    "# your algorithm time complexity is:从头到尾只遍历一次。O(n)\n",
    "# 证明：贪心选择：每次选择当前未覆盖的最左边的房子，并在覆盖范围内寻找最右边的房子作为基站位置，这样可以确保覆盖尽可能多的房子。\n",
    "# 最优子结构：每次放置一个基站后，剩下的房子的覆盖问题也是一个类似的问题，可以通过相同的策略解决。"
   ]
  },
  {
   "cell_type": "markdown",
   "metadata": {},
   "source": [
    "## 问题 8  \n",
    "\n",
    "> 给定由n个正整数组成的一个集合$S = \\{a_1, a_2，···，a_n\\}$和一个正整数W，设计一个算法确定是否存在S的一个子集 $K \\subseteq S$, 使K中所有数之和为 $W$, 如果存在返回“True”，否则返回“False”\n",
    "\n",
    "请设计一个时间复杂度为$O(nW)$动态规划算法，解决上述问题，分析算法的设计思路，并且基于python编程实现（不需要输出子集）。\n",
    "\n",
    "e.g. \n",
    "\n",
    "输入：S = {1,4,7,3,5}， W = 11，输出：True。   因为K可以是{4,7}。\n",
    "\n"
   ]
  },
  {
   "cell_type": "markdown",
   "metadata": {},
   "source": [
    "idea："
   ]
  },
  {
   "cell_type": "code",
   "execution_count": null,
   "metadata": {},
   "outputs": [
    {
     "name": "stdout",
     "output_type": "stream",
     "text": [
      "True\n"
     ]
    }
   ],
   "source": [
    "# add your idea here\n",
    "# 求助网络，采用动态规划方法，定义一个二维数组dp，其中dp[i][j]表示前i个元素中是否存在一个子集，使得其和等于j。\n",
    "# # dp[i][j]的值可以是True或False。如果不选择第i个元素，则dp[i][j] = dp[i-1][j]，表示和前i-1个元素的状态相同。\n",
    "# 如果选择第i个元素，则dp[i][j] = dp[i-1][j-a[i-1]]，前提是j >= a[i-1]，选择这个元素需要在前i-1个元素找到j-a[i-1]的子集。\n",
    "# 综合两种情况，dp[i][j] = dp[i-1][j] or dp[i-1][j-a[i-1]]（当j >= a[i-1]时），既可以选择也可以不选择的情况就是True.\n",
    "def subset_sum(S, W):\n",
    "    n = len(S)\n",
    "    dp = [[False] * (W + 1) for _ in range(n + 1)]\n",
    "    dp[0][0] = True\n",
    "    \n",
    "    for i in range(1, n + 1):\n",
    "        for j in range(W + 1):\n",
    "            if j >= S[i - 1]:\n",
    "                dp[i][j] = dp[i - 1][j] or dp[i - 1][j - S[i - 1]]\n",
    "            else:\n",
    "                dp[i][j] = dp[i - 1][j]\n",
    "    \n",
    "    return dp[n][W]\n",
    "\n",
    "# 示例\n",
    "S = [1, 4, 7, 3, 5]\n",
    "W = 11\n",
    "print(subset_sum(S, W))  # 输出: Tru\n",
    "# your algorithm time complexity is: O(nW)"
   ]
  },
  {
   "cell_type": "markdown",
   "metadata": {},
   "source": [
    "\n",
    "\n",
    "## 问题 9 \n",
    "\n",
    "> 给定一个n个物品的集合。物体的重量为$w_1, w_2，…、w_n$，物品的价值分别是$v_1、v_2、…v_n$。给你**两个**重量为 $c$ 的背包。如果你带了一个东西，它可以放在一个背包里，也可以放在另一个背包里，但不能同时放在两个背包里。所有权重和价值都是正整数。\n",
    "\n",
    "1. 设计一个时间复杂度为 $O(nc^2)$ 的动态规划算法，确定可以放入两个背包的物体的最大价值。分析算法设计思路，并基于python编程实现\n",
    "2. \\* 修改1中的算法，输出每个背包的内容（物品对应下标）。\n",
    "\n",
    "e.g.: \n",
    "\n",
    "输入 V=[1,3,2,5,8,7], W=[1,3,2,5,8,7], c=7, 输出：最大价值=14，背包装的物品为：[6] [4，3] （同一个背包中物品装入顺序对结果无影响）  \n"
   ]
  },
  {
   "cell_type": "markdown",
   "metadata": {},
   "source": [
    "idea："
   ]
  },
  {
   "cell_type": "code",
   "execution_count": null,
   "metadata": {},
   "outputs": [
    {
     "name": "stdout",
     "output_type": "stream",
     "text": [
      "最大价值= 14\n",
      "背包装的物品为： [6] [3, 4]\n"
     ]
    }
   ],
   "source": [
    "# add your idea here\n",
    "# 算法设计思路：双背包问题，需要将物品分配到两个背包中，使得总价值最大\n",
    "# 定义一个三维数组 dp[i][j][k]，表示前 i 个物品中，第一个背包容量为 j，第二个背包容量为 k 时的最大价值。\n",
    "# 不选第 i 个物品：dp[i][j][k] = dp[i-1][j][k] 等于前i个物品的价值\n",
    "# 选第 i 个物品放在第一个背包：dp[i][j][k] = dp[i-1][j-w[i-1]][k] + v[i-1]（如果 j >= w[i-1]） 价值等于前i-1个物品\n",
    "# 选第 i 个物品放在第二个背包：dp[i][j][k] = dp[i-1][j][k-w[i-1]] + v[i-1]（如果 k >= w[i-1]）\n",
    "# 综合三种情况：dp[i][j][k] = max(dp[i-1][j][k], dp[i-1][j-w[i-1]][k] + v[i-1], dp[i-1][j][k-w[i-1]] + v[i-1])\n",
    "def double_knapsack(V, W, c):\n",
    "    n = len(V)\n",
    "    dp = [[[0] * (c + 1) for _ in range(c + 1)] for _ in range(n + 1)]\n",
    "    \n",
    "    for i in range(1, n + 1):\n",
    "        for j in range(c + 1):\n",
    "            for k in range(c + 1):\n",
    "                dp[i][j][k] = dp[i-1][j][k]\n",
    "                if j >= W[i-1]:\n",
    "                    dp[i][j][k] = max(dp[i][j][k], dp[i-1][j-W[i-1]][k] + V[i-1])\n",
    "                if k >= W[i-1]:\n",
    "                    dp[i][j][k] = max(dp[i][j][k], dp[i-1][j][k-W[i-1]] + V[i-1])\n",
    "    \n",
    "    # 回溯路径\n",
    "    j, k = c, c\n",
    "    selected_items = ([], [])\n",
    "    for i in range(n, 0, -1):\n",
    "        if dp[i][j][k] != dp[i-1][j][k]:\n",
    "            if j >= W[i-1] and dp[i][j][k] == dp[i-1][j-W[i-1]][k] + V[i-1]:\n",
    "                selected_items[0].append(i)\n",
    "                j -= W[i-1]\n",
    "            elif k >= W[i-1] and dp[i][j][k] == dp[i-1][j][k-W[i-1]] + V[i-1]:\n",
    "                selected_items[1].append(i)\n",
    "                k -= W[i-1]\n",
    "    \n",
    "    selected_items[0].reverse()\n",
    "    selected_items[1].reverse()\n",
    "    \n",
    "    return dp[n][c][c], selected_items\n",
    "\n",
    "# 示例\n",
    "V = [1, 3, 2, 5, 8, 7]\n",
    "W = [1, 3, 2, 5, 8, 7]\n",
    "c = 7\n",
    "max_value, selected_items = double_knapsack(V, W, c)\n",
    "print(\"最大价值=\", max_value)\n",
    "print(\"背包装的物品为：\", selected_items[0], selected_items[1])  # 为了对齐输出格式\n",
    "\n",
    "# your algorithm time complexity is: O(nc^2)\n",
    "# 三层循环n*c*c"
   ]
  },
  {
   "cell_type": "markdown",
   "metadata": {},
   "source": [
    "## 问题 10 \n",
    "\n",
    "> 给定两个字符串 $x[1..n]$ 和 $y[1..m]$，我们想通过以下操作将 $x$ 变换为 $y$ :\n",
    ">\n",
    "> **插入**：在 $x$ 中插入一个字符(在任何位置)；**删除**：从 $x$ 中删除一个字符(在任何位置)； **替换**：用另一个字符替换 $x$ 中的一个字符。\n",
    ">\n",
    "> 例如: $x = abcd$, $y = bcfe$，\n",
    ">\n",
    "> - 将 $x$ 转换为 $y$ 的一种可能方法是：1. 删除 $x$ 开头的 $a$, $x$变成 $bcd$； 2. 将 $x$ 中的字符 $d$ 替换为字符 $f$。$x$ 变成 $bcf$； 3. 在 $x$ 的末尾插入字符 $e$。$x$ 变成 $bcfe$。\n",
    ">\n",
    "> - 另一种可能的方法：1. 删除 $x$ 开头的 $a$,  $x$ 变成 $bcd$； 2. 在 $x$ 中字符 $d$ 之前插入字符 $f$。$x$ 变成 $bcfd$。3. 将 $x$ 中的字符 $d$ 替换为字符 $e$。$x$ 变成 $bcfe$。\n",
    "\n",
    "设计一个时间复杂度为 $O(mn)$ 的算法，返回将 $x$ 转换为 $y$ 所需的最少操作次数。分析算法设计思路，并基于python编程实现。\n"
   ]
  },
  {
   "cell_type": "markdown",
   "metadata": {},
   "source": [
    "idea：还是利用动态规划的思想来做。设 dp[i][j] 表示将字符串 x 的前 i 个字符转换为字符串 y 的前 j 个字符所需的最少操作次数。\n",
    "若 x[i - 1] == y[j - 1]，即当前字符相等，那么不需要进行额外操作，dp[i][j] = dp[i - 1][j - 1]。\n",
    "若 x[i - 1] != y[j - 1]，则需要进行插入、删除或替换操作，取这三种操作的最小值并加 1：\n",
    "插入操作：dp[i][j - 1] + 1，表示在 x 的前 i 个字符后插入 y[j - 1]。\n",
    "删除操作：dp[i - 1][j] + 1，表示删除 x[i - 1]。\n",
    "替换操作：dp[i - 1][j - 1] + 1，表示将 x[i - 1] 替换为 y[j - 1]。\n",
    "部分咨询大模型。\n",
    "遍历次数mn,时间复杂度为O(n)"
   ]
  },
  {
   "cell_type": "code",
   "execution_count": null,
   "metadata": {},
   "outputs": [
    {
     "name": "stdout",
     "output_type": "stream",
     "text": [
      "3\n"
     ]
    }
   ],
   "source": [
    "def min_edit_distance(x, y):\n",
    "    m = len(y)\n",
    "    n = len(x)\n",
    "    dp = [[0] * (n + 1) for _ in range(m + 1)]\n",
    "\n",
    "    # 初始化边界条件\n",
    "    for i in range(m + 1):\n",
    "        dp[i][0] = i\n",
    "    for j in range(n + 1):\n",
    "        dp[0][j] = j\n",
    "\n",
    "    # 填充 dp 数组\n",
    "    for i in range(1, m + 1):\n",
    "        for j in range(1, n + 1):\n",
    "            if y[i - 1] == x[j - 1]:\n",
    "                dp[i][j] = dp[i - 1][j - 1]\n",
    "            else:\n",
    "                dp[i][j] = min(dp[i][j - 1], dp[i - 1][j], dp[i - 1][j - 1]) + 1\n",
    "\n",
    "    return dp[m][n]\n",
    "\n",
    "# 示例\n",
    "x = \"abcd\"\n",
    "y = \"bcfe\"\n",
    "print(min_edit_distance(x, y))  \n",
    "\n",
    "# 时间复杂度：O（mn).m,n分别为字符的长度，每个字字母组合都会遍历一遍。"
   ]
  }
 ],
 "metadata": {
  "kernelspec": {
   "display_name": "base",
   "language": "python",
   "name": "python3"
  },
  "language_info": {
   "codemirror_mode": {
    "name": "ipython",
    "version": 3
   },
   "file_extension": ".py",
   "mimetype": "text/x-python",
   "name": "python",
   "nbconvert_exporter": "python",
   "pygments_lexer": "ipython3",
   "version": "3.12.4"
  }
 },
 "nbformat": 4,
 "nbformat_minor": 2
}
